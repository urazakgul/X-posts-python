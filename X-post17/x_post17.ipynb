{
 "cells": [
  {
   "cell_type": "code",
   "execution_count": null,
   "metadata": {},
   "outputs": [],
   "source": [
    "import yfinance as yf\n",
    "import mplfinance as mpf"
   ]
  },
  {
   "cell_type": "code",
   "execution_count": null,
   "metadata": {},
   "outputs": [],
   "source": [
    "# https://www.investing.com/tools/fibonacci-calculator\n",
    "\n",
    "def fibonacci_retracement(ticker, start_date, interval='1d', fibo_type='static', window=50, trend='up'):\n",
    "    df = yf.download(\n",
    "        tickers=ticker,\n",
    "        start=start_date,\n",
    "        interval=interval\n",
    "    )\n",
    "\n",
    "    price_key = 'Max Price' if trend == 'up' else 'Min Price'\n",
    "    df['Min Price'] = df['Close'].rolling(window=window).min() if fibo_type == 'dynamic' else df['Close'].min()\n",
    "    df['Max Price'] = df['Close'].rolling(window=window).max() if fibo_type == 'dynamic' else df['Close'].max()\n",
    "    df['Difference'] = df['Max Price'] - df['Min Price']\n",
    "\n",
    "    fibonacci_ratios = [0, 0.236, 0.382, 0.5, 0.618, 0.764, 1, 1.382]\n",
    "\n",
    "    for i, ratio in enumerate(fibonacci_ratios, start=1):\n",
    "        df[f'F{i}'] = df[price_key] - df['Difference'] * ratio if trend == 'up' else df[price_key] + df['Difference'] * ratio\n",
    "\n",
    "    mpf.plot(df, type='candle', style='yahoo', addplot=[\n",
    "        mpf.make_addplot(df[f'F{i}'] * len(df), linestyle='--', width=1.5) for i in range(1, len(fibonacci_ratios) + 1)\n",
    "    ], title=f'Fibonacci Retracement for {ticker}', figsize=(16, 8))\n",
    "\n",
    "fibonacci_retracement(\n",
    "    ticker='BTC-USD',\n",
    "    start_date='2023-01-01',\n",
    "    fibo_type='dynamic',\n",
    "    trend='up'\n",
    ")"
   ]
  }
 ],
 "metadata": {
  "kernelspec": {
   "display_name": "Python 3",
   "language": "python",
   "name": "python3"
  },
  "language_info": {
   "codemirror_mode": {
    "name": "ipython",
    "version": 3
   },
   "file_extension": ".py",
   "mimetype": "text/x-python",
   "name": "python",
   "nbconvert_exporter": "python",
   "pygments_lexer": "ipython3",
   "version": "3.12.1"
  }
 },
 "nbformat": 4,
 "nbformat_minor": 2
}
