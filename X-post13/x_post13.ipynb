{
 "cells": [
  {
   "cell_type": "code",
   "execution_count": null,
   "metadata": {},
   "outputs": [],
   "source": [
    "# pip install mplfinance\n",
    "\n",
    "import pandas as pd\n",
    "import yfinance as yf\n",
    "import mplfinance as mpf"
   ]
  },
  {
   "cell_type": "code",
   "execution_count": null,
   "metadata": {},
   "outputs": [],
   "source": [
    "ticker = 'PGSUS.IS'\n",
    "df = yf.download(\n",
    "    tickers=ticker,\n",
    "    start='2023-06-01',\n",
    "    interval='1d',\n",
    "    progress=False\n",
    ")"
   ]
  },
  {
   "cell_type": "code",
   "execution_count": null,
   "metadata": {},
   "outputs": [],
   "source": [
    "mpf.plot(\n",
    "    data=df,\n",
    "    type='candle',\n",
    "    style='yahoo',\n",
    "    mav=(5,20),\n",
    "    volume=True\n",
    ")"
   ]
  },
  {
   "cell_type": "code",
   "execution_count": null,
   "metadata": {},
   "outputs": [],
   "source": [
    "mpf.available_styles()"
   ]
  },
  {
   "cell_type": "code",
   "execution_count": null,
   "metadata": {},
   "outputs": [],
   "source": [
    "def ATR(df, window):\n",
    "    atr = pd.DataFrame()\n",
    "    tr = pd.DataFrame()\n",
    "    tr['H-L'] = df['High'] - df['Low']\n",
    "    tr['H-PC'] = abs(df['High'] - df['Close'].shift(1))\n",
    "    tr['L-PC'] = abs(df['Low'] - df['Close'].shift(1))\n",
    "    tr['TR'] = tr[['H-L', 'H-PC', 'L-PC']].max(axis=1)\n",
    "    atr['ATR'] = tr['TR'].rolling(window=window, min_periods=1).mean()\n",
    "    return atr\n",
    "\n",
    "def RSI(df, window, buy_threshold, sell_threshold):\n",
    "    rsi = pd.DataFrame()\n",
    "    delta = df['Close'].diff()\n",
    "    gain = delta.where(delta > 0, 0)\n",
    "    loss = -delta.where(delta < 0, 0)\n",
    "    avg_gain = gain.rolling(window=window, min_periods=1).mean()\n",
    "    avg_loss = loss.rolling(window=window, min_periods=1).mean()\n",
    "    rs = avg_gain / avg_loss\n",
    "    rsi['RSI'] = 100 - (100 / (1 + rs))\n",
    "    rsi['BUY'] = buy_threshold\n",
    "    rsi['SELL'] = sell_threshold\n",
    "    return rsi"
   ]
  },
  {
   "cell_type": "code",
   "execution_count": null,
   "metadata": {},
   "outputs": [],
   "source": [
    "atr_window = 14\n",
    "atr = ATR(df, atr_window)\n",
    "\n",
    "rsi_window = 14\n",
    "rsi_buy_threshold = 30\n",
    "rsi_sell_threshold = 70\n",
    "rsi = RSI(df, rsi_window, rsi_buy_threshold, rsi_sell_threshold)\n",
    "\n",
    "plots = [\n",
    "    mpf.make_addplot((atr['ATR']), color='purple', ylabel=f'ATR ({atr_window})', secondary_y=False, panel=2),\n",
    "    mpf.make_addplot((rsi['RSI']), color='#ff8800', ylabel=f'RSI ({rsi_window}, {rsi_buy_threshold}, {rsi_sell_threshold})', secondary_y=False, panel=3),\n",
    "    mpf.make_addplot((rsi['BUY']), color='green', secondary_y=False, panel=3),\n",
    "    mpf.make_addplot((rsi['SELL']), color='red', secondary_y=False, panel=3),\n",
    "]\n",
    "\n",
    "mpf.plot(\n",
    "    df,\n",
    "    type='candle',\n",
    "    style='yahoo',\n",
    "    mav=(5,20),\n",
    "    volume=True,\n",
    "    addplot=plots,\n",
    "    panel_ratios=(3,3,3,3),\n",
    "    figscale=2\n",
    ")"
   ]
  }
 ],
 "metadata": {
  "kernelspec": {
   "display_name": "Python 3",
   "language": "python",
   "name": "python3"
  },
  "language_info": {
   "codemirror_mode": {
    "name": "ipython",
    "version": 3
   },
   "file_extension": ".py",
   "mimetype": "text/x-python",
   "name": "python",
   "nbconvert_exporter": "python",
   "pygments_lexer": "ipython3",
   "version": "3.12.0"
  }
 },
 "nbformat": 4,
 "nbformat_minor": 2
}
