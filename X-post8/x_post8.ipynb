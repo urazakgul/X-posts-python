{
 "cells": [
  {
   "cell_type": "code",
   "execution_count": 1,
   "metadata": {},
   "outputs": [],
   "source": [
    "import json\n",
    "import folium\n",
    "import pandas as pd"
   ]
  },
  {
   "cell_type": "code",
   "execution_count": 2,
   "metadata": {},
   "outputs": [],
   "source": [
    "# https://data.tuik.gov.tr/Bulten/Index?p=Il-Bazinda-Gayrisafi-Yurt-Ici-Hasila-2022-45867\n",
    "df = pd.read_excel('turkey_gdp_per_capita.xlsx')\n",
    "df = df.sort_values(by='gdp_per_capita_2022_usd')\n",
    "\n",
    "# https://data.humdata.org/dataset/geoboundaries-admin-boundaries-for-turkey\n",
    "with open(\"turkey-geo.json\", \"r\", encoding=\"utf-8\") as file:\n",
    "    geo_data = json.load(file)"
   ]
  },
  {
   "cell_type": "code",
   "execution_count": 3,
   "metadata": {},
   "outputs": [],
   "source": [
    "map_turkey = folium.Map(\n",
    "    location = [39, 35],\n",
    "    zoom_start = 7\n",
    ")\n",
    "\n",
    "folium.Choropleth(\n",
    "    geo_data = geo_data,\n",
    "    data = df,\n",
    "    columns = ['province', 'gdp_per_capita_2022_usd'],\n",
    "    key_on = 'feature.properties.shapeName',\n",
    "    fill_color = 'YlOrRd',\n",
    "    fill_opacity = 0.7,\n",
    "    line_opacity = 0.2,\n",
    "    legend_name = 'GDP Per Capita 2022 (USD)',\n",
    "    highlight = True,\n",
    "    threshold_scale = list(df['gdp_per_capita_2022_usd']),\n",
    ").add_to(map_turkey)\n",
    "\n",
    "map_turkey.save('choropleth_map_custom.html')"
   ]
  }
 ],
 "metadata": {
  "kernelspec": {
   "display_name": "Python 3",
   "language": "python",
   "name": "python3"
  },
  "language_info": {
   "codemirror_mode": {
    "name": "ipython",
    "version": 3
   },
   "file_extension": ".py",
   "mimetype": "text/x-python",
   "name": "python",
   "nbconvert_exporter": "python",
   "pygments_lexer": "ipython3",
   "version": "3.12.0"
  }
 },
 "nbformat": 4,
 "nbformat_minor": 2
}
