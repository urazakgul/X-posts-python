{
 "cells": [
  {
   "cell_type": "code",
   "execution_count": null,
   "metadata": {},
   "outputs": [],
   "source": [
    "import requests\n",
    "from bs4 import BeautifulSoup\n",
    "import pandas as pd"
   ]
  },
  {
   "cell_type": "code",
   "execution_count": null,
   "metadata": {},
   "outputs": [],
   "source": [
    "url = \"https://www.airlinequality.com/robots.txt\"\n",
    "response = requests.get(url)\n",
    "\n",
    "if response.status_code == 200:\n",
    "    print(\"Robots.txt is available.\")\n",
    "    print(response.text)\n",
    "else:\n",
    "    print(\"Robots.txt not found. HTTP Status Code:\", response.status_code)"
   ]
  },
  {
   "cell_type": "code",
   "execution_count": null,
   "metadata": {},
   "outputs": [],
   "source": [
    "base_url = \"https://www.airlinequality.com/airline-reviews/{}/page/{}\"\n",
    "airline = \"turkish-airlines\"\n",
    "num_pages = 2\n",
    "\n",
    "category_mapping = {\n",
    "    \"Aircraft\": \"Aircraft\",\n",
    "    \"Type Of Traveller\": \"Type Of Traveller\",\n",
    "    \"Seat Type\": \"Seat Type\",\n",
    "    \"Route\": \"Route\",\n",
    "    \"Date Flown\": \"Date Flown\",\n",
    "    \"Seat Comfort\": \"Seat Comfort\",\n",
    "    \"Cabin Staff Service\": \"Cabin Staff Service\",\n",
    "    \"Food & Beverages\": \"Food & Beverages\",\n",
    "    \"Inflight Entertainment\": \"Inflight Entertainment\",\n",
    "    \"Ground Service\": \"Ground Service\",\n",
    "    \"Wifi & Connectivity\": \"Wifi & Connectivity\",\n",
    "    \"Value For Money\": \"Value For Money\",\n",
    "    \"Recommended\": \"Recommended\"\n",
    "}\n",
    "all_reviews_data = []\n",
    "\n",
    "for page in range(1, num_pages + 1):\n",
    "    url = base_url.format(airline, page)\n",
    "    response = requests.get(url)\n",
    "\n",
    "    if response.status_code == 200:\n",
    "        soup = BeautifulSoup(response.text, \"html.parser\")\n",
    "        tables = soup.find_all(\"table\")\n",
    "\n",
    "        for table in tables[1:]:\n",
    "            review_data = {}\n",
    "\n",
    "            for row in table.find_all(\"tr\"):\n",
    "                columns = row.find_all(\"td\")\n",
    "\n",
    "                if len(columns) == 2:\n",
    "                    category = columns[0].text.strip()\n",
    "                    span_fill = columns[1].find_all(\"span\", class_=\"fill\")\n",
    "                    value = span_fill[-1].text.strip() if span_fill else columns[1].text.strip()\n",
    "\n",
    "                    if category in category_mapping:\n",
    "                        review_data[category_mapping[category]] = value\n",
    "\n",
    "            all_reviews_data.append(review_data)\n",
    "\n",
    "    else:\n",
    "        print(f\"HTTP Response Code for page {page}: {response.status_code}\")\n",
    "\n",
    "df_reviews = pd.DataFrame(all_reviews_data)\n",
    "\n",
    "df_reviews = df_reviews.reindex(columns=[\n",
    "    \"Aircraft\", \"Type Of Traveller\", \"Seat Type\", \"Route\", \"Date Flown\",\n",
    "    \"Seat Comfort\", \"Cabin Staff Service\", \"Food & Beverages\",\n",
    "    \"Inflight Entertainment\", \"Ground Service\", \"Wifi & Connectivity\",\n",
    "    \"Value For Money\", \"Recommended\"\n",
    "])\n",
    "\n",
    "print(df_reviews)"
   ]
  }
 ],
 "metadata": {
  "kernelspec": {
   "display_name": "Python 3",
   "language": "python",
   "name": "python3"
  },
  "language_info": {
   "codemirror_mode": {
    "name": "ipython",
    "version": 3
   },
   "file_extension": ".py",
   "mimetype": "text/x-python",
   "name": "python",
   "nbconvert_exporter": "python",
   "pygments_lexer": "ipython3",
   "version": "3.12.0"
  }
 },
 "nbformat": 4,
 "nbformat_minor": 2
}
