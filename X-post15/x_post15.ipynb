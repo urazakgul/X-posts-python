{
 "cells": [
  {
   "cell_type": "code",
   "execution_count": null,
   "metadata": {},
   "outputs": [],
   "source": [
    "from isyatirimhisse import StockData\n",
    "import pandas as pd\n",
    "import matplotlib.pyplot as plt\n",
    "plt.style.use('fivethirtyeight')"
   ]
  },
  {
   "cell_type": "code",
   "execution_count": null,
   "metadata": {},
   "outputs": [],
   "source": [
    "def calculate_drawdown(symbol, start_date, exchange='0', return_type='2'):\n",
    "    stock_data = StockData()\n",
    "    df = stock_data.get_data(\n",
    "        symbols=symbol,\n",
    "        start_date=start_date,\n",
    "        exchange=exchange,\n",
    "        return_type=return_type\n",
    "    )[['DATE', 'CLOSING_TL']]\n",
    "\n",
    "    df = df.rename(columns={'CLOSING_TL': 'RETURN'})\n",
    "    df['DATE'] = pd.to_datetime(df['DATE'])\n",
    "\n",
    "    df['Cumulative Returns'] = (1 + df['RETURN']).cumprod()\n",
    "    df['Maximum Peak'] = df['Cumulative Returns'].cummax()\n",
    "    df['Drawdown'] = df['Cumulative Returns'] / df['Maximum Peak'] - 1\n",
    "\n",
    "    df.to_excel(f'{symbol}_drawdown.xlsx', index=False)\n",
    "\n",
    "    plt.figure(figsize=(10, 6))\n",
    "    plt.plot(df['DATE'], df['Drawdown'], linewidth=2, color='red', alpha=0.7, label='Drawdown')\n",
    "    plt.fill_between(df['DATE'], df['Drawdown'], where=df['Drawdown'] < 0, color='red', alpha=0.3)\n",
    "    min_drawdown = df['Drawdown'].min()\n",
    "    plt.axhline(y=min_drawdown, color='black', linestyle='--', label=f'Min Drawdown: {min_drawdown:.2%}')\n",
    "    plt.title(f'{symbol} Stock Drawdown Chart')\n",
    "    plt.xlabel('Date')\n",
    "    plt.ylabel('Drawdown')\n",
    "    plt.legend(loc='upper left', bbox_to_anchor=(1, 1))\n",
    "    plt.show()\n",
    "\n",
    "symbol = 'ASTOR'\n",
    "calculate_drawdown(symbol, start_date='23-01-2023')"
   ]
  }
 ],
 "metadata": {
  "kernelspec": {
   "display_name": "Python 3",
   "language": "python",
   "name": "python3"
  },
  "language_info": {
   "codemirror_mode": {
    "name": "ipython",
    "version": 3
   },
   "file_extension": ".py",
   "mimetype": "text/x-python",
   "name": "python",
   "nbconvert_exporter": "python",
   "pygments_lexer": "ipython3",
   "version": "3.12.0"
  }
 },
 "nbformat": 4,
 "nbformat_minor": 2
}
