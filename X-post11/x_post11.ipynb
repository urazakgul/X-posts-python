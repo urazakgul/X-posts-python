{
 "cells": [
  {
   "cell_type": "code",
   "execution_count": null,
   "metadata": {},
   "outputs": [],
   "source": [
    "import yfinance as yf\n",
    "from isyatirimhisse import StockData\n",
    "import pandas as pd\n",
    "import matplotlib.pyplot as plt\n",
    "plt.style.use('fivethirtyeight')"
   ]
  },
  {
   "cell_type": "code",
   "execution_count": null,
   "metadata": {},
   "outputs": [],
   "source": [
    "bist100 = yf.download('XU100.IS', start='2019-01-01')\n",
    "bist100['Date'] = pd.to_datetime(bist100.index)\n",
    "\n",
    "plt.figure(figsize=(12,6))\n",
    "plt.plot(bist100.index, bist100['Adj Close'], c='r')\n",
    "plt.title('BIST 100 Index')\n",
    "plt.xlabel('')\n",
    "plt.figtext(\n",
    "    0.5,\n",
    "    -0.02,\n",
    "    'Data source: yfinance library. Index values are not adjusted after removing two zeros.',\n",
    "    wrap=True,\n",
    "    horizontalalignment='left',\n",
    "    fontsize=10,\n",
    "    style='italic',\n",
    "    c='gray'\n",
    ")\n",
    "plt.show()"
   ]
  },
  {
   "cell_type": "code",
   "execution_count": null,
   "metadata": {},
   "outputs": [],
   "source": [
    "def get_stock_data(symbol, start_date):\n",
    "\n",
    "    df_yahoo = yf.download(symbol + '.IS', start=pd.to_datetime(start_date).strftime('%Y-%m-%d'))\n",
    "    df_yahoo = df_yahoo[['Adj Close']].copy()\n",
    "    df_yahoo.columns = ['Adj Close_yfinance']\n",
    "\n",
    "    stock_data = StockData()\n",
    "    df_isyatirimhisse = stock_data.get_data(\n",
    "        symbols=symbol,\n",
    "        start_date=start_date,\n",
    "        exchange='0'\n",
    "    )\n",
    "    df_isyatirimhisse = df_isyatirimhisse[['DATE', 'CLOSING_TL']]\n",
    "    df_isyatirimhisse.columns = ['Date', 'Adj Close_isyatirimhisse']\n",
    "\n",
    "    df_yahoo['Date'] = pd.to_datetime(df_yahoo.index)\n",
    "    df_isyatirimhisse['Date'] = pd.to_datetime(df_isyatirimhisse['Date'])\n",
    "\n",
    "    df_yahoo = df_yahoo.set_index('Date')\n",
    "    df_isyatirimhisse = df_isyatirimhisse.set_index('Date')\n",
    "\n",
    "    merged_df = pd.merge(df_yahoo, df_isyatirimhisse, left_index=True, right_index=True)\n",
    "    merged_df['Diff'] = merged_df['Adj Close_yfinance'] - merged_df['Adj Close_isyatirimhisse']\n",
    "\n",
    "    merged_df.to_excel('check_prices.xlsx')\n",
    "\n",
    "    return merged_df\n",
    "\n",
    "def plot_stock_prices(merged_df):\n",
    "    plt.figure(figsize=(10, 6))\n",
    "    plt.plot(merged_df['Diff'])\n",
    "\n",
    "    plt.title('Stock Prices Over Time Comparison')\n",
    "    plt.xlabel('')\n",
    "    plt.ylabel('Adjusted Close Price Difference (TL)')\n",
    "    plt.show()\n",
    "\n",
    "symbol = 'PGSUS'\n",
    "start_date = '01-01-2010'\n",
    "\n",
    "merged_df = get_stock_data(symbol, start_date)\n",
    "plot_stock_prices(merged_df)"
   ]
  }
 ],
 "metadata": {
  "kernelspec": {
   "display_name": "Python 3",
   "language": "python",
   "name": "python3"
  },
  "language_info": {
   "codemirror_mode": {
    "name": "ipython",
    "version": 3
   },
   "file_extension": ".py",
   "mimetype": "text/x-python",
   "name": "python",
   "nbconvert_exporter": "python",
   "pygments_lexer": "ipython3",
   "version": "3.12.0"
  }
 },
 "nbformat": 4,
 "nbformat_minor": 2
}
