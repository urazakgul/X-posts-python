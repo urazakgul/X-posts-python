{
 "cells": [
  {
   "cell_type": "code",
   "execution_count": null,
   "metadata": {},
   "outputs": [],
   "source": [
    "import pandas as pd\n",
    "from sklearn.feature_extraction.text import CountVectorizer, TfidfVectorizer\n",
    "from sklearn.metrics.pairwise import cosine_similarity"
   ]
  },
  {
   "cell_type": "code",
   "execution_count": null,
   "metadata": {},
   "outputs": [],
   "source": [
    "sentence1 = \"They placed an order for 500 Airbus aircraft.\"\n",
    "sentence2 = \"They will place an order for 500 Boeing aircraft.\"\n",
    "\n",
    "vectorizer = CountVectorizer().fit_transform([sentence1, sentence2])\n",
    "vectors = vectorizer.toarray()\n",
    "\n",
    "cosine_sim = cosine_similarity([vectors[0]], [vectors[1]])[0, 0]\n",
    "\n",
    "print(\"Cosine Similarity:\", cosine_sim)"
   ]
  },
  {
   "cell_type": "code",
   "execution_count": null,
   "metadata": {},
   "outputs": [],
   "source": [
    "# https://www.kaggle.com/datasets/rajkumardubey10/all-top-rated-imdb-movies-dataset\n",
    "df = pd.read_csv('top_rated_movies_imdb.csv')\n",
    "df = df[['title','overview']]\n",
    "df = df.dropna(subset=['overview'])\n",
    "print(df)"
   ]
  },
  {
   "cell_type": "code",
   "execution_count": null,
   "metadata": {},
   "outputs": [],
   "source": [
    "tfidf_vectorizer = TfidfVectorizer(stop_words='english')\n",
    "tfidf_matrix = tfidf_vectorizer.fit_transform(df['overview'])\n",
    "cosine_sim = cosine_similarity(tfidf_matrix, tfidf_matrix)\n",
    "titles = df['title'].tolist()\n",
    "long_data = []\n",
    "for i in range(len(titles)):\n",
    "    for j in range(i + 1, len(titles)):\n",
    "        title1 = titles[i]\n",
    "        title2 = titles[j]\n",
    "        score = cosine_sim[i, j]\n",
    "        long_data.append([title1, title2, score])\n",
    "long_df = pd.DataFrame(long_data, columns=['title1', 'title2', 'score'])\n",
    "long_df = long_df[long_df['title1'] != long_df['title2']]\n",
    "long_df = long_df.sort_values(by='score', ascending=False)\n",
    "print(long_df)"
   ]
  },
  {
   "cell_type": "code",
   "execution_count": null,
   "metadata": {},
   "outputs": [],
   "source": [
    "my_list = long_df[long_df['title1'] == 'Seven Years in Tibet']\n",
    "my_list.head(10)"
   ]
  }
 ],
 "metadata": {
  "kernelspec": {
   "display_name": "Python 3",
   "language": "python",
   "name": "python3"
  },
  "language_info": {
   "codemirror_mode": {
    "name": "ipython",
    "version": 3
   },
   "file_extension": ".py",
   "mimetype": "text/x-python",
   "name": "python",
   "nbconvert_exporter": "python",
   "pygments_lexer": "ipython3",
   "version": "3.12.0"
  }
 },
 "nbformat": 4,
 "nbformat_minor": 2
}
