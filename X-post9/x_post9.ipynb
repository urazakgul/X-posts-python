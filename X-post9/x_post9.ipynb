{
 "cells": [
  {
   "cell_type": "code",
   "execution_count": null,
   "metadata": {},
   "outputs": [],
   "source": [
    "import os\n",
    "import pandas as pd\n",
    "from sklearn.linear_model import LogisticRegression\n",
    "from sklearn.model_selection import train_test_split\n",
    "from sklearn.metrics import confusion_matrix\n",
    "import seaborn as sns\n",
    "import matplotlib.pyplot as plt\n",
    "plt.style.use('fivethirtyeight')"
   ]
  },
  {
   "cell_type": "code",
   "execution_count": null,
   "metadata": {},
   "outputs": [],
   "source": [
    "df = pd.DataFrame()\n",
    "\n",
    "for file_name in os.listdir():\n",
    "    if file_name.endswith('.xlsx'):\n",
    "        airline_df = pd.read_excel(file_name)\n",
    "\n",
    "        df = pd.concat([df, airline_df], ignore_index=True)\n",
    "\n",
    "df = df.iloc[:,5:13].dropna().reset_index(drop=True)"
   ]
  },
  {
   "cell_type": "code",
   "execution_count": null,
   "metadata": {},
   "outputs": [],
   "source": [
    "df['Recommended'] = df['Recommended'].apply(lambda x: 0 if x == 'no' else 1)\n",
    "df = df.astype(int)"
   ]
  },
  {
   "cell_type": "code",
   "execution_count": null,
   "metadata": {},
   "outputs": [],
   "source": [
    "recommendation_n = df['Recommended'].value_counts()\n",
    "\n",
    "plt.figure(figsize=(12,8))\n",
    "plt.bar(['No', 'Yes'], recommendation_n, color=['red', 'blue'])\n",
    "plt.ylabel('# of Customers')\n",
    "plt.title('Recommended?')\n",
    "plt.show()"
   ]
  },
  {
   "cell_type": "code",
   "execution_count": null,
   "metadata": {},
   "outputs": [],
   "source": [
    "df['Recommended'].value_counts()"
   ]
  },
  {
   "cell_type": "code",
   "execution_count": null,
   "metadata": {},
   "outputs": [],
   "source": [
    "df_yes = df[df['Recommended'] == 1]\n",
    "df_no = df[df['Recommended'] == 0]\n",
    "\n",
    "df_yes_sampled = df_yes.sample(n=len(df_no), replace=False, random_state=34)\n",
    "\n",
    "df_balanced = pd.concat([df_yes_sampled, df_no], axis=0).reset_index(drop=True)"
   ]
  },
  {
   "cell_type": "code",
   "execution_count": null,
   "metadata": {},
   "outputs": [],
   "source": [
    "df_balanced['Recommended'].value_counts()"
   ]
  },
  {
   "cell_type": "code",
   "execution_count": null,
   "metadata": {},
   "outputs": [],
   "source": [
    "X = df.drop('Recommended', axis=1)\n",
    "y = df['Recommended']\n",
    "\n",
    "X_train, X_test, y_train, y_test = train_test_split(\n",
    "    X,\n",
    "    y,\n",
    "    test_size=0.2,\n",
    "    random_state=34\n",
    ")\n",
    "\n",
    "model = LogisticRegression()\n",
    "model.fit(X_train, y_train)\n",
    "\n",
    "accuracy = model.score(X_test, y_test)\n",
    "print(\"Accuracy: {:.2f}%\".format(accuracy * 100))"
   ]
  },
  {
   "cell_type": "code",
   "execution_count": null,
   "metadata": {},
   "outputs": [],
   "source": [
    "y_pred = model.predict(X_test)\n",
    "cm = confusion_matrix(y_test, y_pred)\n",
    "\n",
    "sns.heatmap(\n",
    "    cm,\n",
    "    annot=True,\n",
    "    fmt=\"d\",\n",
    "    cmap=\"Blues\",\n",
    "    xticklabels=['Not Recommended', 'Recommended'],\n",
    "    yticklabels=['Not Recommended', 'Recommended']\n",
    ")\n",
    "plt.xlabel('Predicted')\n",
    "plt.ylabel('Actual')\n",
    "plt.title('Confusion Matrix')\n",
    "plt.show()"
   ]
  },
  {
   "cell_type": "code",
   "execution_count": null,
   "metadata": {},
   "outputs": [],
   "source": [
    "Index(['Seat Comfort', 'Cabin Staff Service', 'Food & Beverages',\n",
    "       'Inflight Entertainment', 'Ground Service', 'Wifi & Connectivity',\n",
    "       'Value For Money', 'Recommended'],\n",
    "      dtype='object')"
   ]
  },
  {
   "cell_type": "code",
   "execution_count": null,
   "metadata": {},
   "outputs": [],
   "source": [
    "def predict_recommendation(model):\n",
    "\n",
    "    seat_comfort = int(input('Seat Comfort: '))\n",
    "    cabin_staff_service = int(input('Cabin Staff Service: '))\n",
    "    food_beverages = int(input('Food & Beverages: '))\n",
    "    inflight_entertainment = int(input('Inflight Entertainment: '))\n",
    "    ground_service = int(input('Ground Service: '))\n",
    "    wifi_connectivity = int(input('Wifi & Connectivity: '))\n",
    "    value_for_money = int(input('Value For Money: '))\n",
    "\n",
    "    custom_data = {\n",
    "        'Seat Comfort': [seat_comfort],\n",
    "        'Cabin Staff Service': [cabin_staff_service],\n",
    "        'Food & Beverages': [food_beverages],\n",
    "        'Inflight Entertainment': [inflight_entertainment],\n",
    "        'Ground Service': [ground_service],\n",
    "        'Wifi & Connectivity': [wifi_connectivity],\n",
    "        'Value For Money': [value_for_money]\n",
    "    }\n",
    "    custom_df = pd.DataFrame(custom_data)\n",
    "\n",
    "    prediction = model.predict(custom_df)\n",
    "\n",
    "    return prediction[0]\n",
    "\n",
    "result = predict_recommendation(model)\n",
    "\n",
    "if result == 1:\n",
    "    print(\"Customer recommends.\")\n",
    "else:\n",
    "    print(\"Customer does not recommend.\")"
   ]
  }
 ],
 "metadata": {
  "kernelspec": {
   "display_name": "Python 3",
   "language": "python",
   "name": "python3"
  },
  "language_info": {
   "codemirror_mode": {
    "name": "ipython",
    "version": 3
   },
   "file_extension": ".py",
   "mimetype": "text/x-python",
   "name": "python",
   "nbconvert_exporter": "python",
   "pygments_lexer": "ipython3",
   "version": "3.12.0"
  }
 },
 "nbformat": 4,
 "nbformat_minor": 2
}
